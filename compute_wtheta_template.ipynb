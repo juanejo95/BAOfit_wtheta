{
 "cells": [
  {
   "cell_type": "markdown",
   "id": "420768f4-d01c-46cd-af95-ee1a10602054",
   "metadata": {},
   "source": [
    "# **Computing $w(\\theta)$ for a given cosmology and a set of redshift distributions**\n",
    "\n",
    "This notebook provides a step-by-step guide to calculate the theoretical angular correlation function $w(\\theta)$ based on a given cosmology and redshift distributions.\n",
    "\n",
    "---\n",
    "\n",
    "1. **Full integrals**:  \n",
    "   The code computes $w(\\theta)$ without using simplifications like the Limber or flat-sky approximations, ensuring accurate results.\n",
    "\n",
    "2. **Parallel processing**:  \n",
    "   By default, the code uses **100 CPUs** to speed up calculations. Make sure to run it on an interactive node.\n",
    "\n",
    "3. **Optional no-wiggle template**:  \n",
    "   You can generate a template without BAO wiggles to help evaluate the significance of the BAO detection.\n",
    "\n",
    "---\n"
   ]
  },
  {
   "cell_type": "code",
   "execution_count": 1,
   "id": "3f0da1b0-e7fc-4f74-b827-c5c0dceec46c",
   "metadata": {},
   "outputs": [],
   "source": [
    "%load_ext autoreload\n",
    "%autoreload 2"
   ]
  },
  {
   "cell_type": "code",
   "execution_count": null,
   "id": "2ab9d338-6156-41be-8cc4-6fe7365549b3",
   "metadata": {},
   "outputs": [],
   "source": []
  },
  {
   "cell_type": "code",
   "execution_count": 2,
   "id": "dadd6582-46ff-46c7-adae-81cada425547",
   "metadata": {
    "tags": []
   },
   "outputs": [
    {
     "name": "stdout",
     "output_type": "stream",
     "text": [
      "Saving output to: wtheta_template/nz_fid/wtheta_planck\n",
      "Initialized cosmology: planck\n",
      "WARNING: w(theta) will be computed for all theta values in parallel!\n",
      "0 - Computing w(theta)...\n",
      "0 - Attempting to load precomputed xi_ell...\n",
      "0 - w(theta) computed!\n",
      "WARNING: w(theta) will be computed for all theta values in parallel!\n",
      "1 - Computing w(theta)...\n",
      "1 - Attempting to load precomputed xi_ell...\n",
      "1 - w(theta) computed!\n",
      "WARNING: w(theta) will be computed for all theta values in parallel!\n",
      "2 - Computing w(theta)...\n",
      "2 - Attempting to load precomputed xi_ell...\n",
      "2 - w(theta) computed!\n",
      "WARNING: w(theta) will be computed for all theta values in parallel!\n",
      "3 - Computing w(theta)...\n",
      "3 - Attempting to load precomputed xi_ell...\n",
      "3 - w(theta) computed!\n",
      "WARNING: w(theta) will be computed for all theta values in parallel!\n",
      "4 - Computing w(theta)...\n",
      "4 - Attempting to load precomputed xi_ell...\n",
      "4 - w(theta) computed!\n",
      "WARNING: w(theta) will be computed for all theta values in parallel!\n",
      "5 - Computing w(theta)...\n",
      "5 - Attempting to load precomputed xi_ell...\n",
      "5 - w(theta) computed!\n"
     ]
    }
   ],
   "source": [
    "from utils_template import TemplateInitializer, PowerSpectrumMultipoles, CorrelationFunctionMultipoles, WThetaCalculator\n",
    "\n",
    "# 1. Arguments\n",
    "class Args:\n",
    "    def __init__(self):\n",
    "        self.cosmology_template = \"planck\"\n",
    "        self.nz_flag = \"fid\"\n",
    "        # self.nz_flag = \"clusteringz\"\n",
    "        self.include_wiggles = \"y\"\n",
    "args = Args()\n",
    "args.include_wiggles = '' if args.include_wiggles == 'y' else '_nowiggles'\n",
    "\n",
    "# 2. Numerical resolution of the calculation. The larger these numbers are, the more accurate the template will be\n",
    "Nk, Nmu, Nr, Nz, Ntheta = 2*10**5, 5*10**4, 5*10**4, 10**3, 10**3 # these are the settings I used for DES Y6 BAO\n",
    "\n",
    "# Initialize the template\n",
    "template_initializer = TemplateInitializer(\n",
    "    include_wiggles=args.include_wiggles,\n",
    "    nz_flag=args.nz_flag,\n",
    "    cosmology_template=args.cosmology_template,\n",
    "    Nk=Nk,\n",
    "    Nmu=Nmu,\n",
    "    Nr=Nr,\n",
    "    Nz=Nz,\n",
    "    Ntheta=Ntheta,\n",
    "    verbose=True,\n",
    "    n_cpu=128\n",
    ")\n",
    "\n",
    "# # 3. Calculation of pk_ell\n",
    "# pk_calculator = PowerSpectrumMultipoles(\n",
    "#     template_initializer=template_initializer,\n",
    "# )\n",
    "# for bin_z in range(template_initializer.nbins):\n",
    "#     pk_calculator.compute_pk_ell(bin_z)\n",
    "\n",
    "# # 4. Calculation of xi_ell\n",
    "# xi_calculator = CorrelationFunctionMultipoles(\n",
    "#     template_initializer=template_initializer,\n",
    "# )\n",
    "# for bin_z in range(template_initializer.nbins):\n",
    "#     xi_calculator.compute_xi_ell(bin_z)\n",
    "\n",
    "# 5. Calculation of w(theta)\n",
    "wtheta_calculator = WThetaCalculator(\n",
    "    template_initializer=template_initializer,\n",
    ")\n",
    "for bin_z in range(template_initializer.nbins):\n",
    "    wtheta_calculator.compute_wtheta(bin_z)\n"
   ]
  },
  {
   "cell_type": "code",
   "execution_count": null,
   "id": "74a26f3a-716b-47c8-b9af-727d2b8716e8",
   "metadata": {},
   "outputs": [],
   "source": []
  },
  {
   "cell_type": "code",
   "execution_count": null,
   "id": "82259e21-8c66-4f92-b617-40da9ed0e45d",
   "metadata": {},
   "outputs": [],
   "source": []
  }
 ],
 "metadata": {
  "kernelspec": {
   "display_name": "cosmodesi-main",
   "language": "python",
   "name": "cosmodesi-main"
  },
  "language_info": {
   "codemirror_mode": {
    "name": "ipython",
    "version": 3
   },
   "file_extension": ".py",
   "mimetype": "text/x-python",
   "name": "python",
   "nbconvert_exporter": "python",
   "pygments_lexer": "ipython3",
   "version": "3.10.13"
  }
 },
 "nbformat": 4,
 "nbformat_minor": 5
}
