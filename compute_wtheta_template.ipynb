{
 "cells": [
  {
   "cell_type": "code",
   "execution_count": null,
   "id": "67a1ef46-168d-4c94-ab54-9ba54795980d",
   "metadata": {
    "tags": []
   },
   "outputs": [],
   "source": [
    "%load_ext autoreload\n",
    "%autoreload 2"
   ]
  },
  {
   "cell_type": "code",
   "execution_count": null,
   "id": "2ab9d338-6156-41be-8cc4-6fe7365549b3",
   "metadata": {},
   "outputs": [],
   "source": []
  },
  {
   "cell_type": "code",
   "execution_count": null,
   "id": "dadd6582-46ff-46c7-adae-81cada425547",
   "metadata": {
    "tags": []
   },
   "outputs": [],
   "source": [
    "import os\n",
    "import numpy as np\n",
    "import scipy.special\n",
    "from cosmoprimo import Cosmology, PowerSpectrumBAOFilter\n",
    "import argparse\n",
    "import multiprocessing\n",
    "from utils_paths import path_template\n",
    "from utils import cosmology, redshift_distributions\n",
    "from utils_template import PowerSpectrumMultipoles, CorrelationFunctionMultipoles, WThetaCalculator\n",
    "\n",
    "# 1. Arguments\n",
    "class Args:\n",
    "    def __init__(self):\n",
    "        self.cosmology_template = \"planck\"\n",
    "        self.nz_flag = \"fid\"\n",
    "        # self.nz_flag = \"clusteringz\"\n",
    "        self.include_wiggles = \"y\"\n",
    "args = Args()\n",
    "args.include_wiggles = '' if args.include_wiggles == 'y' else '_nowiggles'\n",
    "\n",
    "# 2. Path for saving the template\n",
    "path_template = path_template(include_wiggles=args.include_wiggles, nz_flag=args.nz_flag, cosmology_template=args.cosmology_template)()\n",
    "os.makedirs(path_template, exist_ok=True)\n",
    "\n",
    "# 3. Numerical resolution of the calculation. The larger these numbers are, the more accurate the template will be\n",
    "Nz, Nk, Nmu, Nr, Ntheta = 10**3, 2*10**5, 5*10**4, 5*10**4, 10**3 # these are the settings I used for DES Y6 BAO\n",
    "# Nz, Nk, Nmu, Nr, Ntheta = 10**3, 10**4, 10**4, 10**4, 10**2\n",
    "\n",
    "# 4. Redshift distributions\n",
    "nz_instance = redshift_distributions(args.nz_flag)\n",
    "\n",
    "# 5. Cosmology\n",
    "params = cosmology(args.cosmology_template)\n",
    "cosmo = Cosmology(\n",
    "    h=params.h,\n",
    "    Omega_cdm=params.Omega_m - params.Omega_b - params.Omega_nu_massive,\n",
    "    Omega_b=params.Omega_b,\n",
    "    sigma8=params.sigma_8,\n",
    "    n_s=params.n_s,\n",
    "    Omega_ncdm=params.Omega_nu_massive,\n",
    "    N_eff=3.046,\n",
    "    engine='class'\n",
    ")\n",
    "\n",
    "# 6. Calculation of pk_ell\n",
    "pk_calculator = PowerSpectrumMultipoles(\n",
    "    cosmo=cosmo,\n",
    "    include_wiggles=args.include_wiggles,\n",
    "    nz_instance=nz_instance,\n",
    "    Nk=Nk,\n",
    "    Nmu=Nmu,\n",
    "    path_template=path_template,\n",
    ")\n",
    "with multiprocessing.Pool(nz_instance.nbins) as pool:\n",
    "    pk_ell_dict = pool.map(pk_calculator.compute_pk_ell, range(nz_instance.nbins))\n",
    "\n",
    "# 7. Calculation of xi_ell\n",
    "xi_calculator = CorrelationFunctionMultipoles(\n",
    "    power_spectrum_multipoles=pk_calculator,\n",
    "    Nr=Nr,\n",
    ")\n",
    "with multiprocessing.Pool(nz_instance.nbins) as pool:\n",
    "    xi_ell_dict = pool.map(xi_calculator.compute_xi_ell, range(nz_instance.nbins))\n",
    "\n",
    "# 8. Calculation of w(theta)\n",
    "calculator = WThetaCalculator(correlation_function_multipoles=xi_calculator, Nz=Nz, Ntheta=Ntheta, n_cpu=100)\n",
    "for bin_z in range(nz_instance.nbins):\n",
    "    calculator.compute_and_save_wtheta(bin_z)\n"
   ]
  },
  {
   "cell_type": "code",
   "execution_count": null,
   "id": "ed8be104-0a60-479b-b154-d488df3875c3",
   "metadata": {},
   "outputs": [],
   "source": []
  },
  {
   "cell_type": "code",
   "execution_count": null,
   "id": "d8580866-dd82-4db6-b0e8-057eac8fa389",
   "metadata": {},
   "outputs": [],
   "source": []
  }
 ],
 "metadata": {
  "kernelspec": {
   "display_name": "cosmodesi-main",
   "language": "python",
   "name": "cosmodesi-main"
  },
  "language_info": {
   "codemirror_mode": {
    "name": "ipython",
    "version": 3
   },
   "file_extension": ".py",
   "mimetype": "text/x-python",
   "name": "python",
   "nbconvert_exporter": "python",
   "pygments_lexer": "ipython3",
   "version": "3.10.13"
  }
 },
 "nbformat": 4,
 "nbformat_minor": 5
}
