{
 "cells": [
  {
   "cell_type": "code",
   "execution_count": null,
   "id": "a0e8eaff-50f5-4864-af54-5c9b7e6f2d5a",
   "metadata": {},
   "outputs": [],
   "source": [
    "%load_ext autoreload\n",
    "%autoreload 2"
   ]
  },
  {
   "cell_type": "code",
   "execution_count": null,
   "id": "26978f2d-e980-4814-bfd6-8f8a73ebed3a",
   "metadata": {},
   "outputs": [],
   "source": []
  },
  {
   "cell_type": "code",
   "execution_count": null,
   "id": "2f83b514-49e0-4386-8b88-d5b8c44ad3ce",
   "metadata": {},
   "outputs": [],
   "source": [
    "import matplotlib.pyplot as plt\n",
    "plt.rcParams[\"text.usetex\"] = True\n",
    "plt.rcParams[\"font.family\"] = \"serif\"\n",
    "plt.rcParams[\"font.serif\"] = \"Times New Roman\"\n",
    "from utils_data import RedshiftDistributions\n",
    "\n",
    "dataset = \"DESY6\"\n",
    "nz_flag = \"fid\"\n",
    "\n",
    "dataset = \"DESIY1_LRG_EZ\"\n",
    "nz_flag = \"mocks\"\n",
    "\n",
    "colors = {\n",
    "    (\"DESY6\", \"fid\"): \"blue\", \n",
    "    (\"DESY6\", \"clusteringz\"): \"green\", \n",
    "    (\"DESY6_COLA\", \"mocks\"): \"brown\", \n",
    "    (\"DESIY1_LRG_Abacus\", \"mocks\"): \"cyan\", \n",
    "    (\"DESIY1_LRG_EZ\", \"mocks\"): \"red\", \n",
    "}\n",
    "\n",
    "nbins = {\n",
    "    (\"DESY6\", \"fid\"): 6,\n",
    "    (\"DESY6\",\"clusteringz\"): 4,\n",
    "    (\"DESY6_COLA\", \"mocks\"): 6,\n",
    "    (\"DESIY1_LRG_Abacus\", \"mocks\"): 1,\n",
    "    (\"DESIY1_LRG_EZ\", \"mocks\"): 1,\n",
    "}\n",
    "\n",
    "redshift_distributions = RedshiftDistributions(dataset=dataset, nz_flag=nz_flag, verbose=True)\n",
    "\n",
    "fig, axs = plt.subplots(nbins[dataset, nz_flag], 1, figsize=(8, 2 * nbins[dataset, nz_flag]), sharex=True)\n",
    "\n",
    "z_edges = redshift_distributions.z_edges\n",
    "color = colors[(dataset, nz_flag)]\n",
    "\n",
    "for bin_z in range(nbins[dataset, nz_flag]):\n",
    "\n",
    "    if dataset not in [\"DESIY1_LRG_Abacus\", \"DESIY1_LRG_EZ\"]:\n",
    "        ax = axs[bin_z]\n",
    "    else:\n",
    "        ax = axs\n",
    "\n",
    "    ax.plot(redshift_distributions.nz_data[:, 0], redshift_distributions.nz_data[:, bin_z + 1], color=color, label=nz_flag)\n",
    "\n",
    "    if dataset not in [\"DESIY1_LRG_Abacus\", \"DESIY1_LRG_EZ\"]:\n",
    "        z_edge = z_edges[bin_z]\n",
    "        ax.text(0.03, 0.85, f\"{z_edge[0]} $< z <$ {z_edge[1]}\", ha=\"left\", va=\"center\", transform=ax.transAxes, fontsize=18)\n",
    "    else:\n",
    "        ax.text(0.03, 0.85, f\"{z_edges[0][0]:.2f} $< z <$ {z_edges[redshift_distributions.nbins - 1][1]:.2f}\", ha=\"left\", va=\"center\", transform=ax.transAxes, fontsize=18)\n",
    "\n",
    "    if bin_z == nbins[dataset, nz_flag] - 1:\n",
    "        ax.set_xlabel(r\"$z$\", fontsize=22)\n",
    "    ax.set_ylabel(r\"$n(z)$\", fontsize=22)\n",
    "    ax.tick_params(axis=\"x\", labelsize=18)\n",
    "    ax.tick_params(axis=\"y\", labelsize=18)\n",
    "\n",
    "    if bin_z == 0:\n",
    "        ax.legend(loc=\"upper right\", fontsize=18)\n"
   ]
  },
  {
   "cell_type": "code",
   "execution_count": null,
   "id": "f7656201-ee54-466b-b95c-b58266b943e3",
   "metadata": {},
   "outputs": [],
   "source": []
  }
 ],
 "metadata": {
  "kernelspec": {
   "display_name": "cosmodesi-main",
   "language": "python",
   "name": "cosmodesi-main"
  },
  "language_info": {
   "codemirror_mode": {
    "name": "ipython",
    "version": 3
   },
   "file_extension": ".py",
   "mimetype": "text/x-python",
   "name": "python",
   "nbconvert_exporter": "python",
   "pygments_lexer": "ipython3",
   "version": "3.10.13"
  }
 },
 "nbformat": 4,
 "nbformat_minor": 5
}
