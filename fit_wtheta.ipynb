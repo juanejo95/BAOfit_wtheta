{
 "cells": [
  {
   "cell_type": "code",
   "execution_count": 1,
   "id": "756b5e32-927f-45c1-af60-67a229960586",
   "metadata": {
    "tags": []
   },
   "outputs": [],
   "source": [
    "%load_ext autoreload\n",
    "%autoreload 2"
   ]
  },
  {
   "cell_type": "code",
   "execution_count": null,
   "id": "9c500155-c2e9-43d9-98eb-823baea8dd86",
   "metadata": {},
   "outputs": [],
   "source": []
  },
  {
   "cell_type": "code",
   "execution_count": 2,
   "id": "0961cb7d-2b54-4943-a644-bec2b8f336eb",
   "metadata": {
    "tags": []
   },
   "outputs": [
    {
     "name": "stdout",
     "output_type": "stream",
     "text": [
      "Saving output to: fit_results/DESY6_1/nzfid_covcosmolike_data_plancktemp_planckcov_deltatheta0.2_thetamin0.5_thetamax5_3broadband_binsremoved[]\n",
      "All theta values are the same. Using the first one as an array.\n",
      "Using fid n(z), which has 6 redshift bins\n",
      "Best-fit alpha = 0.9625 ± 0.0260\n",
      "chi2/dof = 87.5507/107\n"
     ]
    }
   ],
   "source": [
    "import numpy as np\n",
    "from scipy.optimize import curve_fit\n",
    "from utils_baofit import WThetaModel, BAOFitInitializer, BAOFit\n",
    "\n",
    "# Arguments\n",
    "class Args:\n",
    "    def __init__(self):\n",
    "        self.include_wiggles = \"y\"\n",
    "        self.dataset = \"DESY6\"\n",
    "        self.weight_type = 1\n",
    "        self.nz_flag = \"fid\"\n",
    "        self.cov_type = \"cosmolike_data\"\n",
    "        self.cosmology_template = \"planck\"\n",
    "        self.cosmology_covariance = \"planck\"\n",
    "        self.delta_theta = 0.2\n",
    "        self.theta_min = 0.5\n",
    "        self.theta_max = 5\n",
    "        self.n_broadband = 3\n",
    "        self.bins_removed = 'None'\n",
    "        self.diag_only = \"n\"\n",
    "        self.remove_crosscov = \"n\"\n",
    "args = Args()\n",
    "args.include_wiggles = '' if args.include_wiggles == 'y' else '_nowiggles'\n",
    "\n",
    "# Galaxy bias dictionary\n",
    "galaxy_bias = {0: 1.7984801248816065, 1: 1.8023169145559157, 2: 1.8102780823227076, 3: 1.9542868433512404, 4: 2.1103760953498414, 5: 2.4099120180419513}\n",
    "galaxy_bias = {bin_z: 1.5 for bin_z in range(10)}\n",
    "\n",
    "# BAO fit initializer\n",
    "baofit_initializer = BAOFitInitializer(\n",
    "    include_wiggles=args.include_wiggles,\n",
    "    dataset=args.dataset,\n",
    "    weight_type=args.weight_type,\n",
    "    nz_flag=args.nz_flag,\n",
    "    cov_type=args.cov_type,\n",
    "    cosmology_template=args.cosmology_template,\n",
    "    cosmology_covariance=args.cosmology_covariance,\n",
    "    delta_theta=args.delta_theta,\n",
    "    theta_min=args.theta_min,\n",
    "    theta_max=args.theta_max,\n",
    "    n_broadband=args.n_broadband,\n",
    "    bins_removed=args.bins_removed,\n",
    "    verbose=True\n",
    ")\n",
    "args.bins_removed = baofit_initializer.bins_removed # it has been post-processed\n",
    "nbins = baofit_initializer.nbins\n",
    "\n",
    "# 2. Load data w(theta) and covariance\n",
    "from utils_data import WThetaDataCovariance\n",
    "wtheta_data_covariance = WThetaDataCovariance(\n",
    "    dataset=args.dataset,\n",
    "    weight_type=args.weight_type,\n",
    "    cov_type=args.cov_type,\n",
    "    cosmology_covariance=args.cosmology_covariance,\n",
    "    delta_theta=args.delta_theta,\n",
    "    theta_min=args.theta_min,\n",
    "    theta_max=args.theta_max,\n",
    "    bins_removed=args.bins_removed,\n",
    "    diag_only=args.diag_only,\n",
    "    remove_crosscov=args.remove_crosscov,\n",
    "    nbins=nbins\n",
    ")\n",
    "theta_data, wtheta_data, cov = wtheta_data_covariance.process()\n",
    "\n",
    "# 3. Get the template wtheta\n",
    "wtheta_model = WThetaModel(\n",
    "    args.include_wiggles,\n",
    "    args.nz_flag,\n",
    "    args.cosmology_template,\n",
    "    args.n_broadband,\n",
    "    galaxy_bias, \n",
    ")\n",
    "\n",
    "# # 4. First fit attempt. We use curve_fit\n",
    "# wtheta_data_concatenated = np.concatenate([wtheta_data[bin_z] for bin_z in range(nbins)])\n",
    "# n_params = len(wtheta_model.names_params)\n",
    "# n_params_true = len(wtheta_model.names_params) - (1 + args.n_broadband) * len(args.bins_removed)\n",
    "# wtheta_template = wtheta_model.get_wtheta_template()\n",
    "\n",
    "# popt, pcov = curve_fit(wtheta_template, theta_data, wtheta_data_concatenated, p0=wtheta_model.p0, bounds=wtheta_model.bounds, sigma=cov, absolute_sigma=False)\n",
    "# err_params = np.sqrt(np.diag(pcov))\n",
    "\n",
    "# # Let's compute the chi2 and dof\n",
    "# wtheta_fit_concatenated = wtheta_template(theta_data, *popt)\n",
    "# diff = wtheta_data_concatenated - wtheta_fit_concatenated\n",
    "# chi_square = diff @ np.linalg.inv(cov) @ diff\n",
    "# dof = len(wtheta_data_concatenated) - n_params_true\n",
    "# for bin_z in args.bins_removed:\n",
    "#     dof -= len(indices_theta_allbins[bin_z])\n",
    "\n",
    "# print(f'Best-fit alpha = {popt[0]:.4f} ± {np.sqrt(pcov[0, 0]):.4f}')\n",
    "# print(f'chi2/dof = {chi_square:.4f}/{dof}')\n",
    "\n",
    "# 5. With our pipeline\n",
    "baofit = BAOFit(\n",
    "    baofit_initializer,\n",
    "    wtheta_model,\n",
    "    theta_data,\n",
    "    wtheta_data,\n",
    "    cov,\n",
    "    n_cpu=128\n",
    ")\n",
    "alpha_best, err_alpha, chi2_best, dof = baofit.fit()\n"
   ]
  },
  {
   "cell_type": "code",
   "execution_count": null,
   "id": "ada14d2e-cd1f-4d76-a4e7-e1dedd7d0c36",
   "metadata": {},
   "outputs": [],
   "source": []
  },
  {
   "cell_type": "code",
   "execution_count": null,
   "id": "3ea26cde-809f-4ad2-b178-26fb373d47ec",
   "metadata": {},
   "outputs": [],
   "source": []
  },
  {
   "cell_type": "code",
   "execution_count": null,
   "id": "dd0e1765-ea16-44ca-9099-c624d2fe4187",
   "metadata": {},
   "outputs": [],
   "source": []
  },
  {
   "cell_type": "code",
   "execution_count": null,
   "id": "f30684bd-5aef-4807-bcfb-f4e9834217db",
   "metadata": {},
   "outputs": [],
   "source": [
    "Best-fit alpha = 0.9625 ± 0.0260\n",
    "chi2/dof = 87.5507/107"
   ]
  },
  {
   "cell_type": "code",
   "execution_count": null,
   "id": "ef3efca7-9e88-450b-9186-2df882c2d5e8",
   "metadata": {},
   "outputs": [],
   "source": []
  }
 ],
 "metadata": {
  "kernelspec": {
   "display_name": "cosmodesi-main",
   "language": "python",
   "name": "cosmodesi-main"
  },
  "language_info": {
   "codemirror_mode": {
    "name": "ipython",
    "version": 3
   },
   "file_extension": ".py",
   "mimetype": "text/x-python",
   "name": "python",
   "nbconvert_exporter": "python",
   "pygments_lexer": "ipython3",
   "version": "3.10.13"
  }
 },
 "nbformat": 4,
 "nbformat_minor": 5
}
