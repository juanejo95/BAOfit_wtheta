{
 "cells": [
  {
   "cell_type": "code",
   "execution_count": 1,
   "id": "756b5e32-927f-45c1-af60-67a229960586",
   "metadata": {
    "tags": []
   },
   "outputs": [],
   "source": [
    "%load_ext autoreload\n",
    "%autoreload 2"
   ]
  },
  {
   "cell_type": "code",
   "execution_count": null,
   "id": "9c500155-c2e9-43d9-98eb-823baea8dd86",
   "metadata": {},
   "outputs": [],
   "source": []
  },
  {
   "cell_type": "code",
   "execution_count": 9,
   "id": "0961cb7d-2b54-4943-a644-bec2b8f336eb",
   "metadata": {
    "tags": []
   },
   "outputs": [
    {
     "name": "stdout",
     "output_type": "stream",
     "text": [
      "All theta values are the same. Using the first one as an array.\n",
      "Using fid n(z), which has 6 redshift bins\n",
      "Best-fit alpha = 0.9633 ± 0.0291\n",
      "chi2/dof = 83.8232/107\n",
      "Saving output to: fit_results/DESY6_1/nzfid_covcosmolike_data_plancktemp_planckcov_deltatheta0.2_thetamin0.5_thetamax5_3broadband_binsremoved[]\n",
      "Best-fit alpha = 0.9566 ± 0.0303\n",
      "chi2/dof = 86.0162/107\n"
     ]
    }
   ],
   "source": [
    "import numpy as np\n",
    "from scipy.optimize import curve_fit\n",
    "from scipy.stats import chi2\n",
    "import os\n",
    "import sys\n",
    "import argparse\n",
    "from utils_baofit import WThetaModel, BAOFit, PathBAOFit\n",
    "\n",
    "# Arguments\n",
    "class Args:\n",
    "    def __init__(self):\n",
    "        self.include_wiggles = \"y\"\n",
    "        self.dataset = \"DESY6\"\n",
    "        self.weight_type = 1\n",
    "        self.nz_flag = \"fid\"\n",
    "        self.cov_type = \"cosmolike_data\"\n",
    "        self.cosmology_template = \"planck\"\n",
    "        self.cosmology_covariance = \"planck\"\n",
    "        self.delta_theta = 0.2\n",
    "        self.theta_min = 0.5\n",
    "        self.theta_max = 5\n",
    "        self.n_broadband = 3\n",
    "        self.bins_removed = 'None'\n",
    "        self.diag_only = \"n\"\n",
    "        self.remove_crosscov = \"n\"\n",
    "args = Args()\n",
    "args.include_wiggles = '' if args.include_wiggles == 'y' else '_nowiggles'\n",
    "\n",
    "# Galaxy bias dictionary\n",
    "galaxy_bias = {0: 1.7984801248816065, 1: 1.8023169145559157, 2: 1.8102780823227076, 3: 1.9542868433512404, 4: 2.1103760953498414, 5: 2.4099120180419513}\n",
    "galaxy_bias = {bin_z: 1 for bin_z in range(10)}\n",
    "\n",
    "# Path for saving the BAO fits\n",
    "path_baofit_instance = PathBAOFit(\n",
    "    include_wiggles=args.include_wiggles,\n",
    "    dataset=args.dataset,\n",
    "    weight_type=args.weight_type,\n",
    "    nz_flag=args.nz_flag,\n",
    "    cov_type=args.cov_type,\n",
    "    cosmology_template=args.cosmology_template,\n",
    "    cosmology_covariance=args.cosmology_covariance,\n",
    "    delta_theta=args.delta_theta,\n",
    "    theta_min=args.theta_min,\n",
    "    theta_max=args.theta_max,\n",
    "    n_broadband=args.n_broadband,\n",
    "    bins_removed=args.bins_removed,\n",
    "    verbose=True\n",
    ")\n",
    "args.bins_removed = path_baofit_instance.bins_removed # it has been post-processed to create the path\n",
    "nbins = path_baofit_instance.nbins # it also has the information about the number of tomographic bins\n",
    "\n",
    "# 2. Load data w(theta) and covariance\n",
    "from utils_data import WThetaCovarianceData\n",
    "wtheta_covariance_data = WThetaCovarianceData(\n",
    "    dataset=args.dataset,\n",
    "    weight_type=args.weight_type,\n",
    "    cov_type=args.cov_type,\n",
    "    cosmology_covariance=args.cosmology_covariance,\n",
    "    delta_theta=args.delta_theta,\n",
    "    theta_min=args.theta_min,\n",
    "    theta_max=args.theta_max,\n",
    "    bins_removed=args.bins_removed,\n",
    "    diag_only=args.diag_only,\n",
    "    remove_crosscov=args.remove_crosscov,\n",
    "    nbins=nbins\n",
    ")\n",
    "\n",
    "theta_data, wtheta_data, cov = wtheta_covariance_data.process()\n",
    "\n",
    "# 3. Get the template wtheta\n",
    "wtheta_model = WThetaModel(\n",
    "    args.include_wiggles,\n",
    "    args.nz_flag,\n",
    "    args.cosmology_template,\n",
    "    args.n_broadband,\n",
    "    galaxy_bias, \n",
    ")\n",
    "\n",
    "# 4. First fit attempt. We use curve_fit\n",
    "wtheta_data_concatenated = np.concatenate([wtheta_data[bin_z] for bin_z in range(nbins)])\n",
    "n_params = len(wtheta_model.names_params)\n",
    "n_params_true = len(wtheta_model.names_params) - (1 + args.n_broadband) * len(args.bins_removed)\n",
    "wtheta_template = wtheta_model.get_wtheta_template()\n",
    "\n",
    "popt, pcov = curve_fit(wtheta_template, theta_data, wtheta_data_concatenated, p0=wtheta_model.p0, bounds=wtheta_model.bounds, sigma=cov, absolute_sigma=False)\n",
    "err_params = np.sqrt(np.diag(pcov))\n",
    "\n",
    "# Let's compute the chi2 and dof\n",
    "wtheta_fit_concatenated = wtheta_template(theta_data, *popt)\n",
    "diff = wtheta_data_concatenated - wtheta_fit_concatenated\n",
    "chi_square = diff @ np.linalg.inv(cov) @ diff\n",
    "dof = len(wtheta_data_concatenated) - n_params_true\n",
    "for bin_z in args.bins_removed:\n",
    "    dof -= len(indices_theta_allbins[bin_z])\n",
    "\n",
    "print(f'Best-fit alpha = {popt[0]:.4f} ± {np.sqrt(pcov[0, 0]):.4f}')\n",
    "print(f'chi2/dof = {chi_square:.4f}/{dof}')\n",
    "\n",
    "# 5. With our pipeline\n",
    "baofit = BAOFit(\n",
    "    wtheta_model,\n",
    "    theta_data,\n",
    "    wtheta_data,\n",
    "    cov,\n",
    "    path_baofit_instance,\n",
    ")\n",
    "alpha_best, err_alpha, chi2_best, dof = baofit.fit()\n"
   ]
  },
  {
   "cell_type": "code",
   "execution_count": null,
   "id": "ef3efca7-9e88-450b-9186-2df882c2d5e8",
   "metadata": {},
   "outputs": [],
   "source": []
  },
  {
   "cell_type": "code",
   "execution_count": null,
   "id": "3e679216-8d66-4ca7-b6db-db018a2a8f47",
   "metadata": {},
   "outputs": [],
   "source": []
  },
  {
   "cell_type": "code",
   "execution_count": null,
   "id": "6b685ac9-f353-4e9c-aff6-9a4023218e86",
   "metadata": {},
   "outputs": [],
   "source": []
  },
  {
   "cell_type": "code",
   "execution_count": null,
   "id": "880d6105-28c9-46d4-b0c2-cfb74f98f579",
   "metadata": {},
   "outputs": [],
   "source": []
  },
  {
   "cell_type": "code",
   "execution_count": null,
   "id": "be445694-629c-49ab-a233-59a918324077",
   "metadata": {},
   "outputs": [],
   "source": []
  },
  {
   "cell_type": "code",
   "execution_count": null,
   "id": "62400d64-0866-4b7b-91fc-9481e87cde0f",
   "metadata": {},
   "outputs": [],
   "source": []
  },
  {
   "cell_type": "code",
   "execution_count": null,
   "id": "84c71065-2ef5-449a-8912-191bf8ce5908",
   "metadata": {},
   "outputs": [],
   "source": []
  },
  {
   "cell_type": "code",
   "execution_count": null,
   "id": "158aed13-8ba7-49fb-8029-62cc03e7237a",
   "metadata": {
    "tags": []
   },
   "outputs": [],
   "source": [
    "args.bins_removed"
   ]
  },
  {
   "cell_type": "code",
   "execution_count": null,
   "id": "37fa9a77-ebd2-4607-8aa9-ea6cec4c0a7c",
   "metadata": {
    "tags": []
   },
   "outputs": [],
   "source": [
    "wtheta_model.names_params"
   ]
  },
  {
   "cell_type": "code",
   "execution_count": null,
   "id": "1e8ba74f-c409-4440-ab0d-5bd39224e6d4",
   "metadata": {},
   "outputs": [],
   "source": []
  },
  {
   "cell_type": "code",
   "execution_count": null,
   "id": "cace3e09-d712-4664-8fe8-750691bfcecd",
   "metadata": {
    "tags": []
   },
   "outputs": [],
   "source": [
    "args.bins_removed"
   ]
  },
  {
   "cell_type": "code",
   "execution_count": null,
   "id": "513cd1e4-0d81-4731-801c-e5081e6df1f5",
   "metadata": {},
   "outputs": [],
   "source": [
    "bins_removed"
   ]
  },
  {
   "cell_type": "code",
   "execution_count": null,
   "id": "c5a6222e-d6df-419c-a518-908d23401a9c",
   "metadata": {},
   "outputs": [],
   "source": []
  },
  {
   "cell_type": "code",
   "execution_count": null,
   "id": "7a4b4317-2d33-4ecd-a740-5bef14c1d235",
   "metadata": {},
   "outputs": [],
   "source": [
    "0.0220/ 0.9528*100"
   ]
  },
  {
   "cell_type": "code",
   "execution_count": null,
   "id": "ede8b432-5de7-4b92-8b4d-cd7702dbc15d",
   "metadata": {},
   "outputs": [],
   "source": [
    "0.0249/ 0.9675*100"
   ]
  },
  {
   "cell_type": "code",
   "execution_count": null,
   "id": "438e19bc-1e3b-4f2e-a6da-74f210dd8ee9",
   "metadata": {},
   "outputs": [],
   "source": [
    "wtheta_model.names_params"
   ]
  },
  {
   "cell_type": "code",
   "execution_count": null,
   "id": "7bb17c19-4beb-4151-a650-5626f17dfe3e",
   "metadata": {},
   "outputs": [],
   "source": [
    "path_template"
   ]
  },
  {
   "cell_type": "code",
   "execution_count": null,
   "id": "0836e96f-02bd-4a71-9fa6-33f7e87db11e",
   "metadata": {},
   "outputs": [],
   "source": [
    "Best-fit alpha = ± \n",
    "chi2/dof = 91.8390/107"
   ]
  }
 ],
 "metadata": {
  "kernelspec": {
   "display_name": "cosmodesi-main",
   "language": "python",
   "name": "cosmodesi-main"
  },
  "language_info": {
   "codemirror_mode": {
    "name": "ipython",
    "version": 3
   },
   "file_extension": ".py",
   "mimetype": "text/x-python",
   "name": "python",
   "nbconvert_exporter": "python",
   "pygments_lexer": "ipython3",
   "version": "3.10.13"
  }
 },
 "nbformat": 4,
 "nbformat_minor": 5
}
