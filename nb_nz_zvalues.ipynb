{
 "cells": [
  {
   "cell_type": "code",
   "execution_count": null,
   "id": "a0e8eaff-50f5-4864-af54-5c9b7e6f2d5a",
   "metadata": {},
   "outputs": [],
   "source": [
    "%load_ext autoreload\n",
    "%autoreload 2"
   ]
  },
  {
   "cell_type": "code",
   "execution_count": null,
   "id": "26978f2d-e980-4814-bfd6-8f8a73ebed3a",
   "metadata": {},
   "outputs": [],
   "source": []
  },
  {
   "cell_type": "code",
   "execution_count": null,
   "id": "2f83b514-49e0-4386-8b88-d5b8c44ad3ce",
   "metadata": {},
   "outputs": [],
   "source": [
    "import matplotlib.pyplot as plt\n",
    "plt.rcParams[\"text.usetex\"] = True\n",
    "plt.rcParams[\"font.family\"] = \"serif\"\n",
    "plt.rcParams[\"font.serif\"] = \"Times New Roman\"\n",
    "from utils_data import RedshiftDistributions\n",
    "\n",
    "bin_z = 0\n",
    "target_area = 0.99\n",
    "\n",
    "redshift_distributions = RedshiftDistributions(dataset='DESY6', nz_flag='fid', verbose=True)\n",
    "z_values = redshift_distributions.z_values(bin_z=bin_z, Nz=10**3, target_area=target_area, verbose=True)\n",
    "nz_values = redshift_distributions.nz_interp(z_values, bin_z=bin_z)\n",
    "\n",
    "fig, ax = plt.subplots(figsize=(8, 5))\n",
    "ax.plot(redshift_distributions.nz_data[:, 0], \n",
    "        redshift_distributions.nz_data[:, bin_z+1], \n",
    "        label='Original n(z)', \n",
    "        alpha=0.7)\n",
    "ax.fill_between(z_values, nz_values, alpha=0.3, label=f'Selected range (integral $\\geq$ {target_area})')\n",
    "ax.axvline(redshift_distributions.z_average(bin_z=bin_z), \n",
    "           color='red', linestyle='--', label='Average z')\n",
    "ax.set_xlabel(r'$z$', fontsize=18)\n",
    "ax.set_ylabel(r'$n(z)$', fontsize=18)\n",
    "ax.xaxis.set_major_locator(plt.MaxNLocator(5))\n",
    "ax.yaxis.set_major_locator(plt.MaxNLocator(5))\n",
    "ax.tick_params(axis=\"both\", which=\"major\", labelsize=12)\n",
    "ax.legend(fontsize=12)\n",
    "ax.grid(True, alpha=0.5)\n",
    "plt.tight_layout()\n"
   ]
  },
  {
   "cell_type": "code",
   "execution_count": null,
   "id": "bff1e518-5ab6-4a3b-bccb-ee3e94245572",
   "metadata": {},
   "outputs": [],
   "source": []
  }
 ],
 "metadata": {
  "kernelspec": {
   "display_name": "cosmodesi-main",
   "language": "python",
   "name": "cosmodesi-main"
  },
  "language_info": {
   "codemirror_mode": {
    "name": "ipython",
    "version": 3
   },
   "file_extension": ".py",
   "mimetype": "text/x-python",
   "name": "python",
   "nbconvert_exporter": "python",
   "pygments_lexer": "ipython3",
   "version": "3.10.13"
  }
 },
 "nbformat": 4,
 "nbformat_minor": 5
}
