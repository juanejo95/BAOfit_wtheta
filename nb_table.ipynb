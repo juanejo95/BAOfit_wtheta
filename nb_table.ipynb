{
 "cells": [
  {
   "cell_type": "markdown",
   "id": "772f5577-75d2-4b12-af0f-e81fd4ffc163",
   "metadata": {},
   "source": [
    "# **LaTeX table with the BAO-fit results**\n",
    "\n",
    "This notebook shows how to create a LaTeX table with the BAO-fit results varying the settings"
   ]
  },
  {
   "cell_type": "code",
   "execution_count": null,
   "id": "dc38b764-ac2c-49b9-affd-352119f0bb39",
   "metadata": {},
   "outputs": [],
   "source": [
    "%load_ext autoreload\n",
    "%autoreload 2"
   ]
  },
  {
   "cell_type": "code",
   "execution_count": null,
   "id": "806ed1ce-cc99-4dbb-83f7-91279d046c5d",
   "metadata": {},
   "outputs": [],
   "source": []
  },
  {
   "cell_type": "code",
   "execution_count": null,
   "id": "da3c8ef6-d682-4355-960d-79401c2b63ff",
   "metadata": {},
   "outputs": [],
   "source": [
    "import numpy as np\n",
    "from itertools import product\n",
    "import os\n",
    "from utils_baofit import BAOFitInitializer\n",
    "\n",
    "# dataset_list = [\"DESY6\", \"DESY6_dec<-23.5\", \"DESY6_dec>-23.5\", \"DESY6_DR1tiles_noDESI\"]\n",
    "dataset_list = [\"DESY6\", \"DESY6_dec<-23.5\", \"DESY6_dec>-23.5\", \"DESY6_DR1tiles_noDESI\", \"DESY6_DR1tiles_DESIonly\"]\n",
    "include_wiggles_list = [\"y\"]\n",
    "weight_type_list = [1]\n",
    "bins_removed_list = [[], [0], [1], [2], [3], [4], [5], [1,2,3,4,5], [0,2,3,4,5], \n",
    "                     [0,1,3,4,5], [0,1,2,4,5], [0,1,2,3,5], [0,1,2,3,4]]\n",
    "\n",
    "fit_results = {}\n",
    "\n",
    "for dataset, include_wiggles, weight_type, bins_removed in product(dataset_list, include_wiggles_list, weight_type_list, bins_removed_list):\n",
    "    # 1. Arguments\n",
    "    class Args:\n",
    "        def __init__(self):\n",
    "            self.include_wiggles = include_wiggles\n",
    "            self.dataset = dataset\n",
    "            # self.dataset = \"DESY6_dec<-23.5\"\n",
    "            # self.dataset = \"DESY6_dec>-23.5\"\n",
    "            self.weight_type = weight_type\n",
    "            self.mock_id = \"mean\" # it will not be used...\n",
    "            self.nz_flag = \"fid\"\n",
    "            # self.nz_flag = \"clusteringz\"\n",
    "            self.cov_type = \"cosmolike\"\n",
    "            self.cosmology_template = \"planck\"\n",
    "            self.cosmology_covariance = \"planck\"\n",
    "            self.delta_theta = 0.2\n",
    "            self.theta_min = 0.5\n",
    "            self.theta_max = 5\n",
    "            self.n_broadband = 3\n",
    "            self.bins_removed = bins_removed\n",
    "            self.diag_only = \"n\"\n",
    "            self.remove_crosscov = \"n\"\n",
    "            self.alpha_min = 0.8\n",
    "            self.alpha_max = 1.2\n",
    "            self.base_path = None\n",
    "    args = Args()\n",
    "    args.include_wiggles = \"\" if args.include_wiggles == \"y\" else \"_nowiggles\"\n",
    "    \n",
    "    # 4. BAO fit initializer. This basically creates the path to save the results\n",
    "    baofit_initializer = BAOFitInitializer(\n",
    "        include_wiggles=args.include_wiggles,\n",
    "        dataset=args.dataset,\n",
    "        weight_type=args.weight_type,\n",
    "        mock_id=args.mock_id,\n",
    "        nz_flag=args.nz_flag,\n",
    "        cov_type=args.cov_type,\n",
    "        cosmology_template=args.cosmology_template,\n",
    "        cosmology_covariance=args.cosmology_covariance,\n",
    "        delta_theta=args.delta_theta,\n",
    "        theta_min=args.theta_min,\n",
    "        theta_max=args.theta_max,\n",
    "        n_broadband=args.n_broadband,\n",
    "        bins_removed=args.bins_removed,\n",
    "        alpha_min=args.alpha_min,\n",
    "        alpha_max=args.alpha_max,\n",
    "        verbose=False,\n",
    "        base_path=args.base_path,\n",
    "    )\n",
    "\n",
    "    fit_results[dataset, include_wiggles, weight_type, str(bins_removed)] = np.loadtxt(os.path.join(baofit_initializer.path_baofit, \"fit_results.txt\"))\n"
   ]
  },
  {
   "cell_type": "code",
   "execution_count": null,
   "id": "a3c5afee-9384-4884-bdc0-f1464e08e235",
   "metadata": {},
   "outputs": [],
   "source": []
  },
  {
   "cell_type": "code",
   "execution_count": null,
   "id": "58c9b199-dce4-47cf-8a4e-14adbfacfaa1",
   "metadata": {},
   "outputs": [],
   "source": [
    "import pandas as pd\n",
    "\n",
    "data = []\n",
    "for key, values in fit_results.items():\n",
    "    dataset, include_wiggles, weight_type, bins_removed = key\n",
    "    alpha, sigma_alpha, chi2, dof = values\n",
    "    data.append([dataset, weight_type, bins_removed, alpha, sigma_alpha, chi2, int(dof)])\n",
    "\n",
    "df = pd.DataFrame(data, columns=[\"Dataset\", \"Weight Type\", \"Bins Removed\", r\"$\\alpha$\", r\"$\\sigma_\\alpha$\", r\"$\\chi^2$\", \"dof\"])\n",
    "\n",
    "df[r\"$\\alpha$\"] = df[r\"$\\alpha$\"].map(lambda x: f\"{x:.3f}\")\n",
    "df[r\"$\\sigma_\\alpha$\"] = df[r\"$\\sigma_\\alpha$\"].map(lambda x: f\"{x:.3f}\")\n",
    "df[r\"$\\chi^2$\"] = df[r\"$\\chi^2$\"].map(lambda x: f\"{x:.1f}\")\n",
    "df[\"dof\"] = df[\"dof\"].astype(int)\n",
    "\n",
    "latex_table = df.to_latex(index=False, escape=False, column_format=\"ccc|cccc\")\n",
    "\n",
    "print(latex_table)\n"
   ]
  },
  {
   "cell_type": "code",
   "execution_count": null,
   "id": "ee2be9cf-60f2-4644-b16f-ff3a08643fa7",
   "metadata": {},
   "outputs": [],
   "source": []
  }
 ],
 "metadata": {
  "kernelspec": {
   "display_name": "cosmodesi-main",
   "language": "python",
   "name": "cosmodesi-main"
  },
  "language_info": {
   "codemirror_mode": {
    "name": "ipython",
    "version": 3
   },
   "file_extension": ".py",
   "mimetype": "text/x-python",
   "name": "python",
   "nbconvert_exporter": "python",
   "pygments_lexer": "ipython3",
   "version": "3.10.13"
  }
 },
 "nbformat": 4,
 "nbformat_minor": 5
}
